
import pandas as pd

file_path = "champiURL.json"
df = pd.read_json(file_path)
df = df.explode('images', ignore_index=True)
df = df.drop(columns=['info'])

mapping = {
    "c": 1,
    "p": 0
}

df["comestibility"] = df["comestibility"].map(mapping)
df = df.dropna().reset_index()
df["comestibility"] = df["comestibility"].astype(int)

print(df)
